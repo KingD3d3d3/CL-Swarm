{
 "cells": [
  {
   "cell_type": "code",
   "execution_count": 17,
   "metadata": {
    "collapsed": true
   },
   "outputs": [],
   "source": [
    "import pandas as pd\n",
    "import matplotlib.pyplot as plt\n",
    "from collections import deque"
   ]
  },
  {
   "cell_type": "code",
   "execution_count": 18,
   "metadata": {},
   "outputs": [
    {
     "data": {
      "text/html": [
       "<div>\n",
       "<style>\n",
       "    .dataframe thead tr:only-child th {\n",
       "        text-align: right;\n",
       "    }\n",
       "\n",
       "    .dataframe thead th {\n",
       "        text-align: left;\n",
       "    }\n",
       "\n",
       "    .dataframe tbody tr th {\n",
       "        vertical-align: top;\n",
       "    }\n",
       "</style>\n",
       "<table border=\"1\" class=\"dataframe\">\n",
       "  <thead>\n",
       "    <tr style=\"text-align: right;\">\n",
       "      <th></th>\n",
       "      <th>agent</th>\n",
       "      <th>event</th>\n",
       "      <th>timestep</th>\n",
       "      <th>goal_reached</th>\n",
       "      <th>timestep_to_goal</th>\n",
       "      <th>collisions_to_goal</th>\n",
       "      <th>collisions</th>\n",
       "      <th>agent_collisions_to_goal</th>\n",
       "      <th>agent_collisions</th>\n",
       "      <th>learning_score</th>\n",
       "    </tr>\n",
       "  </thead>\n",
       "  <tbody>\n",
       "    <tr>\n",
       "      <th>0</th>\n",
       "      <td>0</td>\n",
       "      <td>reached goal: 1</td>\n",
       "      <td>6798</td>\n",
       "      <td>1</td>\n",
       "      <td>6798</td>\n",
       "      <td>439</td>\n",
       "      <td>439</td>\n",
       "      <td>0</td>\n",
       "      <td>0</td>\n",
       "      <td>0.029471</td>\n",
       "    </tr>\n",
       "    <tr>\n",
       "      <th>1</th>\n",
       "      <td>0</td>\n",
       "      <td>reached goal: 2</td>\n",
       "      <td>7648</td>\n",
       "      <td>2</td>\n",
       "      <td>850</td>\n",
       "      <td>27</td>\n",
       "      <td>466</td>\n",
       "      <td>0</td>\n",
       "      <td>0</td>\n",
       "      <td>0.071029</td>\n",
       "    </tr>\n",
       "    <tr>\n",
       "      <th>2</th>\n",
       "      <td>0</td>\n",
       "      <td>reached goal: 1</td>\n",
       "      <td>8266</td>\n",
       "      <td>3</td>\n",
       "      <td>618</td>\n",
       "      <td>0</td>\n",
       "      <td>466</td>\n",
       "      <td>0</td>\n",
       "      <td>0</td>\n",
       "      <td>0.084615</td>\n",
       "    </tr>\n",
       "    <tr>\n",
       "      <th>3</th>\n",
       "      <td>0</td>\n",
       "      <td>reached goal: 2</td>\n",
       "      <td>8846</td>\n",
       "      <td>4</td>\n",
       "      <td>580</td>\n",
       "      <td>1</td>\n",
       "      <td>467</td>\n",
       "      <td>0</td>\n",
       "      <td>0</td>\n",
       "      <td>0.089011</td>\n",
       "    </tr>\n",
       "    <tr>\n",
       "      <th>4</th>\n",
       "      <td>0</td>\n",
       "      <td>reached goal: 1</td>\n",
       "      <td>9336</td>\n",
       "      <td>5</td>\n",
       "      <td>490</td>\n",
       "      <td>0</td>\n",
       "      <td>467</td>\n",
       "      <td>0</td>\n",
       "      <td>0</td>\n",
       "      <td>0.089510</td>\n",
       "    </tr>\n",
       "  </tbody>\n",
       "</table>\n",
       "</div>"
      ],
      "text/plain": [
       "   agent            event  timestep  goal_reached  timestep_to_goal  \\\n",
       "0      0  reached goal: 1      6798             1              6798   \n",
       "1      0  reached goal: 2      7648             2               850   \n",
       "2      0  reached goal: 1      8266             3               618   \n",
       "3      0  reached goal: 2      8846             4               580   \n",
       "4      0  reached goal: 1      9336             5               490   \n",
       "\n",
       "   collisions_to_goal  collisions  agent_collisions_to_goal  agent_collisions  \\\n",
       "0                 439         439                         0                 0   \n",
       "1                  27         466                         0                 0   \n",
       "2                   0         466                         0                 0   \n",
       "3                   1         467                         0                 0   \n",
       "4                   0         467                         0                 0   \n",
       "\n",
       "   learning_score  \n",
       "0        0.029471  \n",
       "1        0.071029  \n",
       "2        0.084615  \n",
       "3        0.089011  \n",
       "4        0.089510  "
      ]
     },
     "execution_count": 18,
     "metadata": {},
     "output_type": "execute_result"
    }
   ],
   "source": [
    "#data= pd.read_csv(\"2018_05_18_000306_master100goal_homing_simple.csv\") \n",
    "data= pd.read_csv(\"2018_05_18_132731_normal_train_homing_simple.csv\")\n",
    "data.head()"
   ]
  },
  {
   "cell_type": "code",
   "execution_count": 21,
   "metadata": {},
   "outputs": [],
   "source": [
    "# Get data Timestep\n",
    "X = data[data['event'].str.startswith('reached goal')]['timestep']\n",
    "\n",
    "# Get data Timestep to Goal\n",
    "Y = data[data['event'].str.startswith('reached goal')]['timestep_to_goal']"
   ]
  },
  {
   "cell_type": "code",
   "execution_count": 22,
   "metadata": {},
   "outputs": [
    {
     "data": {
      "image/png": "[encoded data removed]",
      "text/plain": [
       "<matplotlib.figure.Figure at 0x11ae40650>"
      ]
     },
     "metadata": {},
     "output_type": "display_data"
    }
   ],
   "source": [
    "line = plt.plot(X, Y)\n",
    "#plt.ylim(ymin=0, ymax=5000)\n",
    "plt.xlabel('Timestep')\n",
    "plt.ylabel('Timesteps to goal')\n",
    "plt.title('Timesteps to goal over Goal reached')\n",
    "plt.grid(True)\n",
    "plt.show()"
   ]
  },
  {
   "cell_type": "code",
   "execution_count": 15,
   "metadata": {},
   "outputs": [
    {
     "data": {
      "text/plain": [
       "(array([ 6798,  7648,  8266,  8846,  9336,  9831, 10279, 10730, 11186,\n",
       "        11649, 12092, 12578, 13020, 13465, 13897, 14357, 14806, 15246,\n",
       "        15707, 16161, 16660, 17125, 17602, 18093, 18552, 19342, 19908,\n",
       "        20892, 23823, 24351, 24949, 25547, 26111, 26606, 27129, 27673,\n",
       "        28141, 28584, 29061, 30069, 31083, 31833, 32440, 33352, 33817,\n",
       "        34561, 35086, 37538, 38470, 39241, 39746, 40505, 41046, 41571,\n",
       "        42078, 42557, 43146, 43792, 44445, 45077, 45682, 46271, 47139,\n",
       "        48079, 48791, 50109, 50833, 52267, 53162, 53851, 54561, 55185,\n",
       "        55824, 56451, 57037, 57567, 58096, 58591, 59208, 59849, 60432,\n",
       "        60934, 61483, 61963, 62516, 63082, 63700, 64585, 65977, 67542,\n",
       "        70621, 71317, 71867, 72400, 72994, 73581, 74255, 74867, 75433,\n",
       "        75967]),\n",
       " array([6798,  850,  618,  580,  490,  495,  448,  451,  456,  463,  443,\n",
       "         486,  442,  445,  432,  460,  449,  440,  461,  454,  499,  465,\n",
       "         477,  491,  459,  790,  566,  984, 2931,  528,  598,  598,  564,\n",
       "         495,  523,  544,  468,  443,  477, 1008, 1014,  750,  607,  912,\n",
       "         465,  744,  525, 2452,  932,  771,  505,  759,  541,  525,  507,\n",
       "         479,  589,  646,  653,  632,  605,  589,  868,  940,  712, 1318,\n",
       "         724, 1434,  895,  689,  710,  624,  639,  627,  586,  530,  529,\n",
       "         495,  617,  641,  583,  502,  549,  480,  553,  566,  618,  885,\n",
       "        1392, 1565, 3079,  696,  550,  533,  594,  587,  674,  612,  566,\n",
       "         534]))"
      ]
     },
     "execution_count": 15,
     "metadata": {},
     "output_type": "execute_result"
    }
   ],
   "source": [
    "line[0].get_data()"
   ]
  },
  {
   "cell_type": "code",
   "execution_count": 39,
   "metadata": {},
   "outputs": [],
   "source": [
    "N = 10\n",
    "\n",
    "# Get average timestep by goal reached\n",
    "widow = deque(maxlen=N)\n",
    "simple_mean = []\n",
    "for i in Y:\n",
    "    widow.append(i)\n",
    "    SM = sum(widow) / (len(widow))\n",
    "    simple_mean.append(SM)\n",
    "    \n",
    "# Get exponential mean timestep by goal reached\n",
    "exponential_mean = []\n",
    "for i in Y:\n",
    "    widow.append(i)\n",
    "    EMA = sum(widow) / (len(widow))\n",
    "    simple_mean.append(mean)"
   ]
  },
  {
   "cell_type": "code",
   "execution_count": 40,
   "metadata": {},
   "outputs": [
    {
     "data": {
      "image/png": "[encoded data removed]",
      "text/plain": [
       "<matplotlib.figure.Figure at 0x11a7bec90>"
      ]
     },
     "metadata": {},
     "output_type": "display_data"
    }
   ],
   "source": [
    "plt.plot(X, simple_mean)\n",
    "plt.xlabel('Timestep')\n",
    "plt.ylabel('Average Timesteps to goal')\n",
    "plt.title('Average Timesteps to goal over Goal reached')\n",
    "plt.grid(True)\n",
    "plt.show()"
   ]
  },
  {
   "cell_type": "code",
   "execution_count": null,
   "metadata": {
    "collapsed": true
   },
   "outputs": [],
   "source": []
  }
 ],
 "metadata": {
  "kernelspec": {
   "display_name": "Python 2",
   "language": "python",
   "name": "python2"
  },
  "language_info": {
   "codemirror_mode": {
    "name": "ipython",
    "version": 2
   },
   "file_extension": ".py",
   "mimetype": "text/x-python",
   "name": "python",
   "nbconvert_exporter": "python",
   "pygments_lexer": "ipython2",
   "version": "2.7.14"
  }
 },
 "nbformat": 4,
 "nbformat_minor": 2
}
